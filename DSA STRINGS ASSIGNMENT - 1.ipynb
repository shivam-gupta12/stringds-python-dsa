{
 "cells": [
  {
   "attachments": {},
   "cell_type": "markdown",
   "metadata": {},
   "source": [
    "# question 1"
   ]
  },
  {
   "cell_type": "code",
   "execution_count": 7,
   "metadata": {},
   "outputs": [],
   "source": [
    "class Solution(object):\n",
    "    def diStringMatch(self, s):\n",
    "        \"\"\"\n",
    "        :type s: str\n",
    "        :rtype: List[int]\n",
    "        \"\"\"\n",
    "        perm = []\n",
    "        low = 0 \n",
    "        high = len(s)\n",
    "\n",
    "        for i in s:\n",
    "            if i=='I':\n",
    "                perm.append(low)\n",
    "                low+=1\n",
    "            elif i=='D':\n",
    "                perm.append(high)\n",
    "                high-=1\n",
    "        \n",
    "        perm.append(low)\n",
    "        return perm\n",
    "\n",
    "\n",
    "            "
   ]
  },
  {
   "cell_type": "code",
   "execution_count": 13,
   "metadata": {},
   "outputs": [
    {
     "data": {
      "text/plain": [
       "[0, 4, 1, 3, 2]"
      ]
     },
     "execution_count": 13,
     "metadata": {},
     "output_type": "execute_result"
    }
   ],
   "source": [
    "s = \"IDID\"\n",
    "solution = Solution()\n",
    "solution.diStringMatch(s)"
   ]
  },
  {
   "attachments": {},
   "cell_type": "markdown",
   "metadata": {},
   "source": [
    "# question 2"
   ]
  },
  {
   "cell_type": "code",
   "execution_count": 1,
   "metadata": {},
   "outputs": [],
   "source": [
    "class Solution(object):\n",
    "    def searchMatrix(self, matrix, target):\n",
    "        \"\"\"\n",
    "        :type matrix: List[List[int]]\n",
    "        :type target: int\n",
    "        :rtype: bool\n",
    "        \"\"\"\n",
    "        m = len(matrix) #number of rows\n",
    "        n = len(matrix[0]) #number of columns\n",
    "        for i in range(m):\n",
    "            for j in range(n):\n",
    "                if matrix[i][j] == target:\n",
    "                    return True\n",
    "\n",
    "        return False"
   ]
  },
  {
   "cell_type": "code",
   "execution_count": 6,
   "metadata": {},
   "outputs": [
    {
     "data": {
      "text/plain": [
       "True"
      ]
     },
     "execution_count": 6,
     "metadata": {},
     "output_type": "execute_result"
    }
   ],
   "source": [
    "matrix = [[1,3,5,7],[10,11,16,20],[23,30,34,60]] \n",
    "target = 3\n",
    "\n",
    "solution = Solution()\n",
    "solution.searchMatrix(matrix , target)"
   ]
  },
  {
   "attachments": {},
   "cell_type": "markdown",
   "metadata": {},
   "source": [
    "# question 3"
   ]
  },
  {
   "cell_type": "code",
   "execution_count": 2,
   "metadata": {},
   "outputs": [],
   "source": [
    "def validMountainArray(arr):\n",
    "    n = len(arr)\n",
    "    \n",
    "    if n < 3:\n",
    "        return False\n",
    "    \n",
    "    i = 0\n",
    "    \n",
    "    # Ascending phase\n",
    "    while i < n-1 and arr[i] < arr[i+1]:\n",
    "        i += 1\n",
    "    \n",
    "    if i == 0 or i == n-1:\n",
    "        return False\n",
    "    \n",
    "    # Descending phase\n",
    "    while i < n-1 and arr[i] > arr[i+1]:\n",
    "        i += 1\n",
    "    \n",
    "    return i == n-1\n"
   ]
  },
  {
   "cell_type": "code",
   "execution_count": 3,
   "metadata": {},
   "outputs": [
    {
     "data": {
      "text/plain": [
       "False"
      ]
     },
     "execution_count": 3,
     "metadata": {},
     "output_type": "execute_result"
    }
   ],
   "source": [
    "arr = [2,1]\n",
    "validMountainArray(arr)"
   ]
  },
  {
   "attachments": {},
   "cell_type": "markdown",
   "metadata": {},
   "source": [
    "# question 4"
   ]
  },
  {
   "cell_type": "code",
   "execution_count": 26,
   "metadata": {},
   "outputs": [],
   "source": [
    "def findMaxLength(nums):\n",
    "    count = 0\n",
    "    max_length = 0\n",
    "    count_map = {0 : -1}\n",
    "\n",
    "    for i in range(len(nums)):\n",
    "        if nums[i] == 0:\n",
    "            count -= 1\n",
    "        else:\n",
    "            count += 1\n",
    "\n",
    "        if count in count_map:\n",
    "            max_length = max(max_length, i - count_map[count])\n",
    "        else:\n",
    "            count_map[count] = i\n",
    "\n",
    "    return max_length\n"
   ]
  },
  {
   "cell_type": "code",
   "execution_count": 27,
   "metadata": {},
   "outputs": [
    {
     "data": {
      "text/plain": [
       "2"
      ]
     },
     "execution_count": 27,
     "metadata": {},
     "output_type": "execute_result"
    }
   ],
   "source": [
    "nums = [0,1,1,1]\n",
    "findMaxLength(nums)"
   ]
  },
  {
   "attachments": {},
   "cell_type": "markdown",
   "metadata": {},
   "source": [
    "# question 5"
   ]
  },
  {
   "cell_type": "code",
   "execution_count": 28,
   "metadata": {},
   "outputs": [],
   "source": [
    "def minProductSum(nums1, nums2):\n",
    "    nums1.sort()  # Sort nums1 in ascending order\n",
    "    nums2.sort(reverse=True)  # Sort nums2 in descending order\n",
    "    \n",
    "    productSum = 0\n",
    "    for i in range(len(nums1)):\n",
    "        productSum += nums1[i] * nums2[i]\n",
    "    \n",
    "    return productSum\n"
   ]
  },
  {
   "cell_type": "code",
   "execution_count": 29,
   "metadata": {},
   "outputs": [
    {
     "name": "stdout",
     "output_type": "stream",
     "text": [
      "40\n"
     ]
    }
   ],
   "source": [
    "nums1 = [5, 3, 4, 2]\n",
    "nums2 = [4, 2, 2, 5]\n",
    "print(minProductSum(nums1, nums2))\n"
   ]
  },
  {
   "attachments": {},
   "cell_type": "markdown",
   "metadata": {},
   "source": [
    "# question 6"
   ]
  },
  {
   "cell_type": "code",
   "execution_count": 32,
   "metadata": {},
   "outputs": [],
   "source": [
    "def returnoriginal(changed):\n",
    "    list= []\n",
    "    final_list = []\n",
    "    for i in changed:\n",
    "        if i*2  in changed:\n",
    "            list.append(i)\n",
    "    return list         "
   ]
  },
  {
   "cell_type": "code",
   "execution_count": 33,
   "metadata": {},
   "outputs": [
    {
     "data": {
      "text/plain": [
       "[1, 3, 4, 2]"
      ]
     },
     "execution_count": 33,
     "metadata": {},
     "output_type": "execute_result"
    }
   ],
   "source": [
    "changed = [1,3,4,2,6,8]\n",
    "returnoriginal(changed)"
   ]
  },
  {
   "attachments": {},
   "cell_type": "markdown",
   "metadata": {},
   "source": [
    "# question 7"
   ]
  },
  {
   "cell_type": "code",
   "execution_count": 30,
   "metadata": {},
   "outputs": [],
   "source": [
    "def generateMatrix(n):\n",
    "    matrix = [[0] * n for _ in range(n)]\n",
    "    rowStart, rowEnd, colStart, colEnd = 0, n - 1, 0, n - 1\n",
    "    num = 1\n",
    "\n",
    "    while num <= n*n:\n",
    "        # Fill top row\n",
    "        for col in range(colStart, colEnd + 1):\n",
    "            matrix[rowStart][col] = num\n",
    "            num += 1\n",
    "        rowStart += 1\n",
    "\n",
    "        # Fill rightmost column\n",
    "        for row in range(rowStart, rowEnd + 1):\n",
    "            matrix[row][colEnd] = num\n",
    "            num += 1\n",
    "        colEnd -= 1\n",
    "\n",
    "        # Fill bottom row\n",
    "        for col in range(colEnd, colStart - 1, -1):\n",
    "            matrix[rowEnd][col] = num\n",
    "            num += 1\n",
    "        rowEnd -= 1\n",
    "\n",
    "        # Fill leftmost column\n",
    "        for row in range(rowEnd, rowStart - 1, -1):\n",
    "            matrix[row][colStart] = num\n",
    "            num += 1\n",
    "        colStart += 1\n",
    "\n",
    "    return matrix"
   ]
  },
  {
   "cell_type": "code",
   "execution_count": 31,
   "metadata": {},
   "outputs": [
    {
     "name": "stdout",
     "output_type": "stream",
     "text": [
      "[[1, 2, 3], [8, 9, 4], [7, 6, 5]]\n"
     ]
    }
   ],
   "source": [
    "n = 3\n",
    "result = generateMatrix(n)\n",
    "print(result)\n"
   ]
  },
  {
   "attachments": {},
   "cell_type": "markdown",
   "metadata": {},
   "source": [
    "# question 8"
   ]
  },
  {
   "cell_type": "code",
   "execution_count": 45,
   "metadata": {},
   "outputs": [
    {
     "name": "stdout",
     "output_type": "stream",
     "text": [
      "[7, 0, 0]\n",
      "[-7, 0, 3]\n"
     ]
    }
   ],
   "source": [
    "def multiply_sparse_matrices(mat1, mat2):\n",
    "    m, k, n = len(mat1), len(mat1[0]), len(mat2[0])\n",
    "\n",
    "    # Convert matrices to dictionaries of non-zero elements\n",
    "    sparse_mat1 = {}\n",
    "    for i in range(m):\n",
    "        for j in range(k):\n",
    "            if mat1[i][j] != 0:\n",
    "                sparse_mat1[(i, j)] = mat1[i][j]\n",
    "\n",
    "    sparse_mat2 = {}\n",
    "    for i in range(k):\n",
    "        for j in range(n):\n",
    "            if mat2[i][j] != 0:\n",
    "                sparse_mat2[(i, j)] = mat2[i][j]\n",
    "\n",
    "    # Perform matrix multiplication and store the result in a dictionary\n",
    "    result = {}\n",
    "    for (i, j) in sparse_mat1:\n",
    "        for (j2, k2) in sparse_mat2:\n",
    "            if j == j2:  # Matching column index, perform multiplication\n",
    "                result[(i, k2)] = result.get((i, k2), 0) + sparse_mat1[(i, j)] * sparse_mat2[(j2, k2)]\n",
    "\n",
    "    # Convert the result dictionary back to a matrix\n",
    "    result_matrix = [[0] * n for _ in range(m)]\n",
    "    for (i, j) in result:\n",
    "        result_matrix[i][j] = result[(i, j)]\n",
    "\n",
    "    return result_matrix\n",
    "\n",
    "# Example usage\n",
    "mat1 = [[1, 0, 0], [-1, 0, 3]]\n",
    "mat2 = [[7, 0, 0], [0, 0, 0], [0, 0, 1]]\n",
    "\n",
    "result = multiply_sparse_matrices(mat1, mat2)\n",
    "for row in result:\n",
    "    print(row)\n",
    "   \n",
    "    "
   ]
  },
  {
   "cell_type": "code",
   "execution_count": null,
   "metadata": {},
   "outputs": [],
   "source": []
  }
 ],
 "metadata": {
  "kernelspec": {
   "display_name": "base",
   "language": "python",
   "name": "python3"
  },
  "language_info": {
   "codemirror_mode": {
    "name": "ipython",
    "version": 3
   },
   "file_extension": ".py",
   "mimetype": "text/x-python",
   "name": "python",
   "nbconvert_exporter": "python",
   "pygments_lexer": "ipython3",
   "version": "3.10.9"
  },
  "orig_nbformat": 4
 },
 "nbformat": 4,
 "nbformat_minor": 2
}
